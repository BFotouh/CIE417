{
  "nbformat": 4,
  "nbformat_minor": 0,
  "metadata": {
    "colab": {
      "name": "L3_BF_20201010ipynb",
      "provenance": [],
      "collapsed_sections": [],
      "include_colab_link": true
    },
    "kernelspec": {
      "name": "python3",
      "display_name": "Python 3"
    }
  },
  "cells": [
    {
      "cell_type": "markdown",
      "metadata": {
        "id": "view-in-github",
        "colab_type": "text"
      },
      "source": [
        "<a href=\"https://colab.research.google.com/github/BFotouh/CIE417/blob/master/Assignments/Lab/T3/L3_BF_20201010ipynb.ipynb\" target=\"_parent\"><img src=\"https://colab.research.google.com/assets/colab-badge.svg\" alt=\"Open In Colab\"/></a>"
      ]
    },
    {
      "cell_type": "markdown",
      "metadata": {
        "id": "AMFXWFFV-HtH"
      },
      "source": [
        "#First: Linear Regression using the normal equation"
      ]
    },
    {
      "cell_type": "markdown",
      "metadata": {
        "id": "kbxatVk5GwGY"
      },
      "source": [
        "  $\\vartheta =(X^TX)^{-1} X^Tt$ \n",
        "\n",
        "\n",
        "  > \n",
        "  $\\vartheta$: Weight (coefficient) vector\n",
        "\n",
        "  $X$: feature matrix where the first column is a column of ones representing the added bias and each other column represents the values of a certain feature.\n"
      ]
    },
    {
      "cell_type": "markdown",
      "metadata": {
        "id": "OSBp_kuE3BCQ"
      },
      "source": [
        "Let’s generate some linear-looking data to test the normal equation"
      ]
    },
    {
      "cell_type": "code",
      "metadata": {
        "id": "1kOlzp4qJUd8"
      },
      "source": [
        "import numpy as np\n",
        "num_points= 100 \n",
        "x1 = 2* np.random.rand(num_points, 1) #Create an array of the shape 100x1 and populate it with random samples from a uniform distribution over [0, 1)\n",
        "gaussian_noise= np.random.randn(num_points, 1) #sampled from a normal (Gaussian) distribution of mean 0 and variance 1\n",
        "theta0= 4\n",
        "theta1= 3\n",
        "t = theta0 + theta1 * x1 + gaussian_noise"
      ],
      "execution_count": 20,
      "outputs": []
    },
    {
      "cell_type": "code",
      "metadata": {
        "id": "-cuhhxBA46Xk"
      },
      "source": [
        "x0= np.ones((num_points, 1))\n",
        "X = np.c_[x0, x1] # add x0 = 1 to each instance\n",
        "theta_best = np.linalg.inv(X.T.dot(X)).dot(X.T).dot(t)"
      ],
      "execution_count": 21,
      "outputs": []
    },
    {
      "cell_type": "code",
      "metadata": {
        "id": "FH1D1Ocmzzwh",
        "outputId": "40c62e6b-5eb8-4207-83e1-15fe47300b1e",
        "colab": {
          "base_uri": "https://localhost:8080/",
          "height": 35
        }
      },
      "source": [
        "x0.shape"
      ],
      "execution_count": 22,
      "outputs": [
        {
          "output_type": "execute_result",
          "data": {
            "text/plain": [
              "(100, 1)"
            ]
          },
          "metadata": {
            "tags": []
          },
          "execution_count": 22
        }
      ]
    },
    {
      "cell_type": "code",
      "metadata": {
        "id": "zgSJ3_lm5TT0",
        "outputId": "2bc22aa6-aeb4-4a82-b3a0-436311aa1116",
        "colab": {
          "base_uri": "https://localhost:8080/",
          "height": 104
        }
      },
      "source": [
        "X[0:5]"
      ],
      "execution_count": 23,
      "outputs": [
        {
          "output_type": "execute_result",
          "data": {
            "text/plain": [
              "array([[1.        , 0.96174739],\n",
              "       [1.        , 1.36483071],\n",
              "       [1.        , 0.61532605],\n",
              "       [1.        , 0.1544497 ],\n",
              "       [1.        , 1.46540544]])"
            ]
          },
          "metadata": {
            "tags": []
          },
          "execution_count": 23
        }
      ]
    },
    {
      "cell_type": "code",
      "metadata": {
        "id": "EtsCsWB56jZT",
        "outputId": "c99af70b-4d3c-4f22-ab18-cddd29633aa9",
        "colab": {
          "base_uri": "https://localhost:8080/",
          "height": 52
        }
      },
      "source": [
        "theta_best"
      ],
      "execution_count": 24,
      "outputs": [
        {
          "output_type": "execute_result",
          "data": {
            "text/plain": [
              "array([[3.93608744],\n",
              "       [3.22683106]])"
            ]
          },
          "metadata": {
            "tags": []
          },
          "execution_count": 24
        }
      ]
    },
    {
      "cell_type": "markdown",
      "metadata": {
        "id": "j88EVbDk7bPX"
      },
      "source": [
        "Acceptable approximation to θ_0 and θ_1, but the noise made it impossible to recover the exact parameters of the original\n",
        "function. "
      ]
    },
    {
      "cell_type": "markdown",
      "metadata": {
        "id": "qEDgmJ_27t1J"
      },
      "source": [
        "Now you can make predictions using θ"
      ]
    },
    {
      "cell_type": "code",
      "metadata": {
        "id": "mI19bUOQ73Ji",
        "outputId": "062dcd8c-d808-41c6-af33-7f19ff5a3a48",
        "colab": {
          "base_uri": "https://localhost:8080/",
          "height": 52
        }
      },
      "source": [
        "X1_new = np.array([[0], [2]])\n",
        "X_new = np.c_[np.ones((2, 1)), X1_new] # add x0 = 1 to each instance\n",
        "y_predict = X_new.dot(theta_best)\n",
        "y_predict"
      ],
      "execution_count": 25,
      "outputs": [
        {
          "output_type": "execute_result",
          "data": {
            "text/plain": [
              "array([[ 3.93608744],\n",
              "       [10.38974956]])"
            ]
          },
          "metadata": {
            "tags": []
          },
          "execution_count": 25
        }
      ]
    },
    {
      "cell_type": "markdown",
      "metadata": {
        "id": "8vH3UhKr8V34"
      },
      "source": [
        "Let’s plot this model’s predictions"
      ]
    },
    {
      "cell_type": "code",
      "metadata": {
        "id": "Cc_4VxlS8W1j",
        "outputId": "89586213-e3cc-4601-ed68-54d3de39a0a8",
        "colab": {
          "base_uri": "https://localhost:8080/",
          "height": 592
        }
      },
      "source": [
        "import matplotlib.pyplot as plt\n",
        "from matplotlib.pylab import rcParams\n",
        "rcParams['figure.figsize'] = 12, 10\n",
        "\n",
        "plt.plot(X1_new, y_predict, \"r-\")\n",
        "plt.plot(x1, t, \"b.\")\n",
        "plt.axis([0, 2, 0, 15]) #x axis range 0 to 2 and y axis range 0 to 15\n",
        "plt.show()"
      ],
      "execution_count": 26,
      "outputs": [
        {
          "output_type": "display_data",
          "data": {
            "image/png": "[encoded data removed]",
            "text/plain": [
              "<Figure size 864x720 with 1 Axes>"
            ]
          },
          "metadata": {
            "tags": [],
            "needs_background": "light"
          }
        }
      ]
    },
    {
      "cell_type": "markdown",
      "metadata": {
        "id": "uQIvGt6k-Ofp"
      },
      "source": [
        "#Second: linear regression using Scikit-Learn"
      ]
    },
    {
      "cell_type": "code",
      "metadata": {
        "id": "eo99ZAZC-Q2f",
        "outputId": "5adfdc44-b18e-4dcf-a3ca-3d53b39779b2",
        "colab": {
          "base_uri": "https://localhost:8080/",
          "height": 35
        }
      },
      "source": [
        "from sklearn.linear_model import LinearRegression\n",
        "lin_reg = LinearRegression()\n",
        "lin_reg.fit(x1, t)\n",
        "lin_reg.intercept_, lin_reg.coef_"
      ],
      "execution_count": 27,
      "outputs": [
        {
          "output_type": "execute_result",
          "data": {
            "text/plain": [
              "(array([3.93608744]), array([[3.22683106]]))"
            ]
          },
          "metadata": {
            "tags": []
          },
          "execution_count": 27
        }
      ]
    },
    {
      "cell_type": "code",
      "metadata": {
        "id": "LmFZvKN_-fl0",
        "outputId": "f04c769e-ee15-4f4c-ea86-d6e5479bdbb1",
        "colab": {
          "base_uri": "https://localhost:8080/",
          "height": 52
        }
      },
      "source": [
        "lin_reg.predict(X1_new)"
      ],
      "execution_count": 28,
      "outputs": [
        {
          "output_type": "execute_result",
          "data": {
            "text/plain": [
              "array([[ 3.93608744],\n",
              "       [10.38974956]])"
            ]
          },
          "metadata": {
            "tags": []
          },
          "execution_count": 28
        }
      ]
    },
    {
      "cell_type": "markdown",
      "metadata": {
        "id": "LrLQvSQZ-2mq"
      },
      "source": [
        "#Third: Linear regression using gradient descent"
      ]
    },
    {
      "cell_type": "markdown",
      "metadata": {
        "id": "FP46qu_V-9vG"
      },
      "source": [
        "\n",
        "#Task 1 [2 points] "
      ]
    },
    {
      "cell_type": "markdown",
      "metadata": {
        "id": "TDU3wcId4fQ6"
      },
      "source": [
        "Implement batch gradient descent and get the values of theta using your implementation. \n",
        "\n",
        "$\\vartheta= \\vartheta - (2\\lambda/n)X^T(y-t)$\n",
        "\n",
        "where n is the number of examples (data points). "
      ]
    },
    {
      "cell_type": "code",
      "metadata": {
        "id": "w_4Z_3Zv_h-r",
        "outputId": "5ef936e7-44c4-44f7-c1b7-17137a30a716",
        "colab": {
          "base_uri": "https://localhost:8080/",
          "height": 661
        }
      },
      "source": [
        "theta = np.random.randn(2,1)          # random initialization of model parameters\n",
        "print(\"initial theta:\", theta)\n",
        "\n",
        "# getting the X parameters and the true values of the data\n",
        "x0 = np.ones((num_points, 1))\n",
        "x1 = 2* np.random.rand(num_points, 1) \n",
        "X = np.c_[x0, x1] \n",
        "X_true = np.c_[x0, x1 + gaussian_noise] \n",
        "t = np.dot(X_true,theta)\n",
        "\n",
        "# the rate\n",
        "learning_lambda = 0.001\n",
        "\n",
        "#calculating the new theta\n",
        "for i in range(num_points):\n",
        "    y_predict = np.dot(X, theta)\n",
        "    loss = y_predict - t\n",
        "    gradient = np.dot(X.T, loss) / num_points\n",
        "    theta = theta - (2 * learning_lambda * gradient)\n",
        "print(\"final theta:\", theta)\n",
        "\n",
        "# getting the predicted values according to the final equation of theta 0 and 1\n",
        "y_predict = np.dot(X, theta)\n",
        "\n",
        "# plotting the values\n",
        "plt.plot(x1, y_predict, \"r-\")\n",
        "plt.plot(x1, t, \"b.\")\n",
        "plt.show()"
      ],
      "execution_count": 29,
      "outputs": [
        {
          "output_type": "stream",
          "text": [
            "initial theta: [[1.82122544]\n",
            " [0.29385987]]\n",
            "final theta: [[1.82835819]\n",
            " [0.3019614 ]]\n"
          ],
          "name": "stdout"
        },
        {
          "output_type": "display_data",
          "data": {
            "image/png": "[encoded data removed]",
            "text/plain": [
              "<Figure size 864x720 with 1 Axes>"
            ]
          },
          "metadata": {
            "tags": [],
            "needs_background": "light"
          }
        }
      ]
    },
    {
      "cell_type": "markdown",
      "metadata": {
        "id": "cigYy7p5EPn0"
      },
      "source": [
        "#Fourth: Linear Regression using SGD with Scikit-Learn"
      ]
    },
    {
      "cell_type": "code",
      "metadata": {
        "id": "8qfKBGiAESr7",
        "outputId": "c373eff5-f9ce-4b2b-f2e8-521a8eda9177",
        "colab": {
          "base_uri": "https://localhost:8080/",
          "height": 35
        }
      },
      "source": [
        "from sklearn.linear_model import SGDRegressor\n",
        "sgd_reg = SGDRegressor(max_iter=1000, tol=1e-3, penalty=None, eta0=0.1)\n",
        "sgd_reg.fit(x1, t.ravel())\n",
        "sgd_reg.intercept_, sgd_reg.coef_"
      ],
      "execution_count": 30,
      "outputs": [
        {
          "output_type": "execute_result",
          "data": {
            "text/plain": [
              "(array([1.83481578]), array([0.33059364]))"
            ]
          },
          "metadata": {
            "tags": []
          },
          "execution_count": 30
        }
      ]
    },
    {
      "cell_type": "markdown",
      "metadata": {
        "id": "1kl9zjMDHfFj"
      },
      "source": [
        "#Fifth: Polynomial Regression"
      ]
    },
    {
      "cell_type": "markdown",
      "metadata": {
        "id": "tjtDwgCCHrB1"
      },
      "source": [
        "What if your data is actually more complex than a simple straight line? Surprisingly, you can actually use a linear model to fit nonlinear data. A simple way to do this is to add powers of each feature as new features, then train a linear model on this extended set of features. This technique is called Polynomial Regression."
      ]
    },
    {
      "cell_type": "code",
      "metadata": {
        "id": "EOWoBD_kHhku",
        "outputId": "47b8ae3c-0c87-4dd2-8d9d-2338b3d5667d",
        "colab": {
          "base_uri": "https://localhost:8080/",
          "height": 609
        }
      },
      "source": [
        "m = 100\n",
        "X = 6 * np.random.rand(m, 1) - 3\n",
        "t = 0.5 * X**2 + X + 2 + np.random.randn(m, 1)\n",
        "plt.plot(X, t, \"b.\")\n"
      ],
      "execution_count": 31,
      "outputs": [
        {
          "output_type": "execute_result",
          "data": {
            "text/plain": [
              "[<matplotlib.lines.Line2D at 0x7facfcd5e748>]"
            ]
          },
          "metadata": {
            "tags": []
          },
          "execution_count": 31
        },
        {
          "output_type": "display_data",
          "data": {
            "image/png": "[encoded data removed]",
            "text/plain": [
              "<Figure size 864x720 with 1 Axes>"
            ]
          },
          "metadata": {
            "tags": [],
            "needs_background": "light"
          }
        }
      ]
    },
    {
      "cell_type": "markdown",
      "metadata": {
        "id": "5CkSWZruIKPW"
      },
      "source": [
        "Clearly, a straight line will never fit this data properly. So let’s use Scikit-Learn’s PolynomialFeatures class to transform our training data, adding the square (2nd-degree polynomial) of each feature in the training set as new features (in this case there is just one feature):"
      ]
    },
    {
      "cell_type": "code",
      "metadata": {
        "id": "ot7FtfiNIQGV"
      },
      "source": [
        "from sklearn.preprocessing import PolynomialFeatures\n",
        "poly_features = PolynomialFeatures(degree=2, include_bias=False)\n",
        "X_poly = poly_features.fit_transform(X)"
      ],
      "execution_count": 32,
      "outputs": []
    },
    {
      "cell_type": "code",
      "metadata": {
        "id": "3pUlIpteIjfF",
        "outputId": "7da7d0c8-a20b-46a0-94aa-7384176415b9",
        "colab": {
          "base_uri": "https://localhost:8080/",
          "height": 52
        }
      },
      "source": [
        "print('X[0]= ', X[0])\n",
        "print('X_poly[0]= ', X_poly[0])"
      ],
      "execution_count": 33,
      "outputs": [
        {
          "output_type": "stream",
          "text": [
            "X[0]=  [-1.75088983]\n",
            "X_poly[0]=  [-1.75088983  3.06561521]\n"
          ],
          "name": "stdout"
        }
      ]
    },
    {
      "cell_type": "markdown",
      "metadata": {
        "id": "DBQo2FiyJDmr"
      },
      "source": [
        "X_poly now contains the original feature of X plus the square of this feature. \n",
        "\n",
        "Now you can fit a LinearRegression model to this extended training data"
      ]
    },
    {
      "cell_type": "code",
      "metadata": {
        "id": "KT3LHJ1gJHG_",
        "outputId": "23dac076-136c-4ce7-84dd-8007204b0689",
        "colab": {
          "base_uri": "https://localhost:8080/",
          "height": 627
        }
      },
      "source": [
        "from sklearn.metrics import mean_squared_error\n",
        "import operator\n",
        "\n",
        "lin_reg = LinearRegression()\n",
        "lin_reg.fit(X_poly, t) #Fit the transformed features \n",
        "y_poly_pred = lin_reg.predict(X_poly)  #Letting the model predict the y values for the transformed features to measure the error\n",
        "rmse = np.sqrt(mean_squared_error(t,y_poly_pred)) \n",
        "print(\"Intercept= \", lin_reg.intercept_,\"and coefficients = \" ,lin_reg.coef_)\n",
        "print(\"Root mean squared error= \", rmse)\n",
        "\n",
        "\n",
        "#Plot \n",
        "plt.scatter(X, t, s=10) \n",
        "# sort the values of x before line plot\n",
        "sort_axis = operator.itemgetter(0)\n",
        "sorted_zip = sorted(zip(X,y_poly_pred), key=sort_axis)\n",
        "X_plot, y_poly_pred_plot = zip(*sorted_zip)\n",
        "plt.plot(X_plot, y_poly_pred_plot, color='m')\n",
        "plt.show()"
      ],
      "execution_count": 34,
      "outputs": [
        {
          "output_type": "stream",
          "text": [
            "Intercept=  [2.04255535] and coefficients =  [[0.99155463 0.45444912]]\n",
            "Root mean squared error=  1.0490828901199087\n"
          ],
          "name": "stdout"
        },
        {
          "output_type": "display_data",
          "data": {
            "image/png": "[encoded data removed]",
            "text/plain": [
              "<Figure size 864x720 with 1 Axes>"
            ]
          },
          "metadata": {
            "tags": [],
            "needs_background": "light"
          }
        }
      ]
    },
    {
      "cell_type": "markdown",
      "metadata": {
        "id": "r90FxzNbJbKH"
      },
      "source": [
        "Not bad: The original\n",
        "function was y = 0.5 x^2 + 1.0 x + 2.0 + Gaussian noise."
      ]
    },
    {
      "cell_type": "code",
      "metadata": {
        "id": "261vpwHja3Pg"
      },
      "source": [
        "def poly_reg (X, t, power, i, X_test, t_test):\n",
        "  poly_features = PolynomialFeatures(degree=power, include_bias=False)\n",
        "  X_poly = poly_features.fit_transform(X)\n",
        "  lin_reg = LinearRegression()\n",
        "  lin_reg.fit(X_poly, t) #Fit the transformed features \n",
        "  y_poly_pred = lin_reg.predict(X_poly)  #Letting the model predict the y values for the transformed features to measure the error\n",
        "  rmse = np.sqrt(mean_squared_error(t,y_poly_pred)) \n",
        "\n",
        "  #evaluate test data \n",
        "  X_poly_test = poly_features.fit_transform(X_test) #Must apply the same transformations to train and test\n",
        "  y_poly_eval= lin_reg.predict(X_poly_test)\n",
        "  rmse_test = np.sqrt(mean_squared_error(t_test,y_poly_eval)) \n",
        "\n",
        "  #Plot \n",
        "  axs[i].scatter(X, t, s=10) \n",
        "  # sort the values of x before line plot\n",
        "  sort_axis = operator.itemgetter(0)\n",
        "  sorted_zip = sorted(zip(X,y_poly_pred), key=sort_axis)\n",
        "  X_plot, y_poly_pred_plot = zip(*sorted_zip)\n",
        "  axs[i].plot(X_plot, y_poly_pred_plot, color='m')\n",
        "  axs[i].set_title('Polynomial of degree: %d'%power)\n",
        "  return lin_reg.intercept_, lin_reg.coef_.tolist()[0], rmse, rmse_test"
      ],
      "execution_count": 35,
      "outputs": []
    },
    {
      "cell_type": "code",
      "metadata": {
        "id": "mBTE5wOXrvJA",
        "outputId": "efe6520c-3373-48fa-cbfd-bcf66c226c2e",
        "colab": {
          "base_uri": "https://localhost:8080/",
          "height": 384
        }
      },
      "source": [
        "fig, axs = plt.subplots(2,3, figsize=(15, 6), facecolor='w', edgecolor='k')\n",
        "fig.subplots_adjust(hspace = .5, wspace=.001)\n",
        "\n",
        "axs = axs.ravel()\n",
        "\n",
        "m = 20\n",
        "X_test = 10*np.random.rand(m, 1)-4\n",
        "t_test = 0.5 * X_test**2 + X_test + 2 + np.random.randn(m, 1)\n",
        "\n",
        "\n",
        "coeff= {}\n",
        "rmse= {}\n",
        "rmse_test={}\n",
        "powers= [1,2,5,7,9,15]\n",
        "for i in range (len(powers)):\n",
        "  power= powers[i]\n",
        "  intercept,coeff[power],rmse[power], rmse_test[power]= poly_reg (X, t, power, i, X_test, t_test)\n"
      ],
      "execution_count": 36,
      "outputs": [
        {
          "output_type": "display_data",
          "data": {
            "image/png": "[encoded data removed]",
            "text/plain": [
              "<Figure size 1080x432 with 6 Axes>"
            ]
          },
          "metadata": {
            "tags": []
          }
        }
      ]
    },
    {
      "cell_type": "code",
      "metadata": {
        "id": "9Qtt4fu7yDFk",
        "outputId": "af069cf5-3b7e-49e4-e4f6-6687078e7ac7",
        "colab": {
          "base_uri": "https://localhost:8080/",
          "height": 121
        }
      },
      "source": [
        "rmse"
      ],
      "execution_count": 37,
      "outputs": [
        {
          "output_type": "execute_result",
          "data": {
            "text/plain": [
              "{1: 1.5477403397239482,\n",
              " 2: 1.0490828901199087,\n",
              " 5: 1.0370382403563145,\n",
              " 7: 1.0347771991372952,\n",
              " 9: 1.0266731180740167,\n",
              " 15: 1.010647102564263}"
            ]
          },
          "metadata": {
            "tags": []
          },
          "execution_count": 37
        }
      ]
    },
    {
      "cell_type": "code",
      "metadata": {
        "id": "0wj8Q3BCAOhF",
        "outputId": "818200b2-b4f4-4d77-bfc0-90b6e1a14f0a",
        "colab": {
          "base_uri": "https://localhost:8080/",
          "height": 121
        }
      },
      "source": [
        "rmse_test"
      ],
      "execution_count": 38,
      "outputs": [
        {
          "output_type": "execute_result",
          "data": {
            "text/plain": [
              "{1: 6.349780134050515,\n",
              " 2: 1.1695445670117737,\n",
              " 5: 10.309830883148031,\n",
              " 7: 16.90424869023723,\n",
              " 9: 2717.9749297964504,\n",
              " 15: 2677029.9155013096}"
            ]
          },
          "metadata": {
            "tags": []
          },
          "execution_count": 38
        }
      ]
    },
    {
      "cell_type": "code",
      "metadata": {
        "id": "AbFbhM-pjfMJ",
        "outputId": "4e070018-25ba-4365-9d64-f68f7a58e570",
        "colab": {
          "base_uri": "https://localhost:8080/",
          "height": 509
        }
      },
      "source": [
        "import pandas as pd\n",
        "coeff_lin_df= pd.DataFrame(dict([ (k,pd.Series(v)) for k,v in coeff.items()]))\n",
        "coeff_lin_df"
      ],
      "execution_count": 39,
      "outputs": [
        {
          "output_type": "execute_result",
          "data": {
            "text/html": [
              "<div>\n",
              "<style scoped>\n",
              "    .dataframe tbody tr th:only-of-type {\n",
              "        vertical-align: middle;\n",
              "    }\n",
              "\n",
              "    .dataframe tbody tr th {\n",
              "        vertical-align: top;\n",
              "    }\n",
              "\n",
              "    .dataframe thead th {\n",
              "        text-align: right;\n",
              "    }\n",
              "</style>\n",
              "<table border=\"1\" class=\"dataframe\">\n",
              "  <thead>\n",
              "    <tr style=\"text-align: right;\">\n",
              "      <th></th>\n",
              "      <th>1</th>\n",
              "      <th>2</th>\n",
              "      <th>5</th>\n",
              "      <th>7</th>\n",
              "      <th>9</th>\n",
              "      <th>15</th>\n",
              "    </tr>\n",
              "  </thead>\n",
              "  <tbody>\n",
              "    <tr>\n",
              "      <th>0</th>\n",
              "      <td>0.964775</td>\n",
              "      <td>0.991555</td>\n",
              "      <td>0.918851</td>\n",
              "      <td>0.951297</td>\n",
              "      <td>1.529915</td>\n",
              "      <td>0.658751</td>\n",
              "    </tr>\n",
              "    <tr>\n",
              "      <th>1</th>\n",
              "      <td>NaN</td>\n",
              "      <td>0.454449</td>\n",
              "      <td>0.419455</td>\n",
              "      <td>0.215482</td>\n",
              "      <td>-0.118417</td>\n",
              "      <td>2.478694</td>\n",
              "    </tr>\n",
              "    <tr>\n",
              "      <th>2</th>\n",
              "      <td>NaN</td>\n",
              "      <td>NaN</td>\n",
              "      <td>-0.029457</td>\n",
              "      <td>-0.038465</td>\n",
              "      <td>-0.896148</td>\n",
              "      <td>1.501998</td>\n",
              "    </tr>\n",
              "    <tr>\n",
              "      <th>3</th>\n",
              "      <td>NaN</td>\n",
              "      <td>NaN</td>\n",
              "      <td>0.003239</td>\n",
              "      <td>0.078385</td>\n",
              "      <td>0.286968</td>\n",
              "      <td>-3.975631</td>\n",
              "    </tr>\n",
              "    <tr>\n",
              "      <th>4</th>\n",
              "      <td>NaN</td>\n",
              "      <td>NaN</td>\n",
              "      <td>0.007056</td>\n",
              "      <td>0.005535</td>\n",
              "      <td>0.383002</td>\n",
              "      <td>-1.995483</td>\n",
              "    </tr>\n",
              "    <tr>\n",
              "      <th>5</th>\n",
              "      <td>NaN</td>\n",
              "      <td>NaN</td>\n",
              "      <td>NaN</td>\n",
              "      <td>-0.006745</td>\n",
              "      <td>-0.048575</td>\n",
              "      <td>2.771579</td>\n",
              "    </tr>\n",
              "    <tr>\n",
              "      <th>6</th>\n",
              "      <td>NaN</td>\n",
              "      <td>NaN</td>\n",
              "      <td>NaN</td>\n",
              "      <td>0.000340</td>\n",
              "      <td>-0.062303</td>\n",
              "      <td>1.120415</td>\n",
              "    </tr>\n",
              "    <tr>\n",
              "      <th>7</th>\n",
              "      <td>NaN</td>\n",
              "      <td>NaN</td>\n",
              "      <td>NaN</td>\n",
              "      <td>NaN</td>\n",
              "      <td>0.002593</td>\n",
              "      <td>-0.931360</td>\n",
              "    </tr>\n",
              "    <tr>\n",
              "      <th>8</th>\n",
              "      <td>NaN</td>\n",
              "      <td>NaN</td>\n",
              "      <td>NaN</td>\n",
              "      <td>NaN</td>\n",
              "      <td>0.003476</td>\n",
              "      <td>-0.325251</td>\n",
              "    </tr>\n",
              "    <tr>\n",
              "      <th>9</th>\n",
              "      <td>NaN</td>\n",
              "      <td>NaN</td>\n",
              "      <td>NaN</td>\n",
              "      <td>NaN</td>\n",
              "      <td>NaN</td>\n",
              "      <td>0.164238</td>\n",
              "    </tr>\n",
              "    <tr>\n",
              "      <th>10</th>\n",
              "      <td>NaN</td>\n",
              "      <td>NaN</td>\n",
              "      <td>NaN</td>\n",
              "      <td>NaN</td>\n",
              "      <td>NaN</td>\n",
              "      <td>0.051618</td>\n",
              "    </tr>\n",
              "    <tr>\n",
              "      <th>11</th>\n",
              "      <td>NaN</td>\n",
              "      <td>NaN</td>\n",
              "      <td>NaN</td>\n",
              "      <td>NaN</td>\n",
              "      <td>NaN</td>\n",
              "      <td>-0.014639</td>\n",
              "    </tr>\n",
              "    <tr>\n",
              "      <th>12</th>\n",
              "      <td>NaN</td>\n",
              "      <td>NaN</td>\n",
              "      <td>NaN</td>\n",
              "      <td>NaN</td>\n",
              "      <td>NaN</td>\n",
              "      <td>-0.004254</td>\n",
              "    </tr>\n",
              "    <tr>\n",
              "      <th>13</th>\n",
              "      <td>NaN</td>\n",
              "      <td>NaN</td>\n",
              "      <td>NaN</td>\n",
              "      <td>NaN</td>\n",
              "      <td>NaN</td>\n",
              "      <td>0.000520</td>\n",
              "    </tr>\n",
              "    <tr>\n",
              "      <th>14</th>\n",
              "      <td>NaN</td>\n",
              "      <td>NaN</td>\n",
              "      <td>NaN</td>\n",
              "      <td>NaN</td>\n",
              "      <td>NaN</td>\n",
              "      <td>0.000142</td>\n",
              "    </tr>\n",
              "  </tbody>\n",
              "</table>\n",
              "</div>"
            ],
            "text/plain": [
              "          1         2         5         7         9         15\n",
              "0   0.964775  0.991555  0.918851  0.951297  1.529915  0.658751\n",
              "1        NaN  0.454449  0.419455  0.215482 -0.118417  2.478694\n",
              "2        NaN       NaN -0.029457 -0.038465 -0.896148  1.501998\n",
              "3        NaN       NaN  0.003239  0.078385  0.286968 -3.975631\n",
              "4        NaN       NaN  0.007056  0.005535  0.383002 -1.995483\n",
              "5        NaN       NaN       NaN -0.006745 -0.048575  2.771579\n",
              "6        NaN       NaN       NaN  0.000340 -0.062303  1.120415\n",
              "7        NaN       NaN       NaN       NaN  0.002593 -0.931360\n",
              "8        NaN       NaN       NaN       NaN  0.003476 -0.325251\n",
              "9        NaN       NaN       NaN       NaN       NaN  0.164238\n",
              "10       NaN       NaN       NaN       NaN       NaN  0.051618\n",
              "11       NaN       NaN       NaN       NaN       NaN -0.014639\n",
              "12       NaN       NaN       NaN       NaN       NaN -0.004254\n",
              "13       NaN       NaN       NaN       NaN       NaN  0.000520\n",
              "14       NaN       NaN       NaN       NaN       NaN  0.000142"
            ]
          },
          "metadata": {
            "tags": []
          },
          "execution_count": 39
        }
      ]
    },
    {
      "cell_type": "markdown",
      "metadata": {
        "id": "m3stdXqsmGBQ"
      },
      "source": [
        "#Sixth: Ridge Regression"
      ]
    },
    {
      "cell_type": "code",
      "metadata": {
        "id": "6oNtmcHlzbRA"
      },
      "source": [
        "from sklearn.linear_model import Ridge\n",
        "def ridge_reg (X, t, power, alpha, i, X_test, t_test):\n",
        "  poly_features = PolynomialFeatures(degree=power, include_bias=False)\n",
        "  X_poly = poly_features.fit_transform(X)\n",
        "  ridge_reg = Ridge(alpha=alpha)\n",
        "  ridge_reg.fit(X_poly, t) #Fit the transformed features \n",
        "  y_ridge_pred = ridge_reg.predict(X_poly)  #Letting the model predict the y values for the transformed features to measure the error\n",
        "  rmse = np.sqrt(mean_squared_error(t,y_ridge_pred)) \n",
        "\n",
        "  #evaluate test data \n",
        "  X_ridge_test = poly_features.fit_transform(X_test) #Must apply the same transformations to train and test\n",
        "  y_ridge_eval= ridge_reg.predict(X_ridge_test)\n",
        "  rmse_test = np.sqrt(mean_squared_error(t_test,y_ridge_eval)) \n",
        "\n",
        "\n",
        "  #Plot \n",
        "  axs[i].scatter(X, t, s=10) \n",
        "  # sort the values of x before line plot\n",
        "  sort_axis = operator.itemgetter(0)\n",
        "  sorted_zip = sorted(zip(X,y_ridge_pred), key=sort_axis)\n",
        "  X_plot, y_ridge_pred_plot = zip(*sorted_zip)\n",
        "  axs[i].plot(X_plot, y_ridge_pred_plot, color='m')\n",
        "  axs[i].set_title('alpha= : %.3f'%alpha)\n",
        "  return ridge_reg.intercept_, ridge_reg.coef_.tolist()[0], rmse, rmse_test"
      ],
      "execution_count": 40,
      "outputs": []
    },
    {
      "cell_type": "code",
      "metadata": {
        "id": "ZmNRDsdF0PmG",
        "outputId": "98452246-d462-42cb-9b12-123931b3f80e",
        "colab": {
          "base_uri": "https://localhost:8080/",
          "height": 435
        }
      },
      "source": [
        "fig, axs = plt.subplots(2,3, figsize=(15, 6), facecolor='w', edgecolor='k')\n",
        "fig.subplots_adjust(hspace = .5, wspace=.001)\n",
        "\n",
        "axs = axs.ravel()\n",
        "\n",
        "m = 20\n",
        "X_test = 3*np.random.rand(m, 1)+1\n",
        "t_test = 0.5 * X_test**2 + X_test + 2 + np.random.randn(m, 1)\n",
        "\n",
        "coeff_ridge= {}\n",
        "rmse_ridge= {}\n",
        "rmse_ridge_test= {}\n",
        "power= 15\n",
        "alphas= [0,0.1,10,30, 1000, 5000]\n",
        "for i in range (len(alphas)):\n",
        "  alpha= alphas[i]\n",
        "  intercept_ridge,coeff_ridge[alpha],rmse_ridge[alpha],rmse_ridge_test[alpha]= ridge_reg (X, t, power,alpha, i, X_test, t_test)\n"
      ],
      "execution_count": 41,
      "outputs": [
        {
          "output_type": "stream",
          "text": [
            "/usr/local/lib/python3.6/dist-packages/sklearn/linear_model/_ridge.py:148: LinAlgWarning: Ill-conditioned matrix (rcond=3.23001e-17): result may not be accurate.\n",
            "  overwrite_a=True).T\n"
          ],
          "name": "stderr"
        },
        {
          "output_type": "display_data",
          "data": {
            "image/png": "[encoded data removed]",
            "text/plain": [
              "<Figure size 1080x432 with 6 Axes>"
            ]
          },
          "metadata": {
            "tags": []
          }
        }
      ]
    },
    {
      "cell_type": "code",
      "metadata": {
        "id": "S_yYxLgn1hFp",
        "outputId": "ea830bcf-90cd-4d24-e994-85a270a483a4",
        "colab": {
          "base_uri": "https://localhost:8080/",
          "height": 121
        }
      },
      "source": [
        "rmse_ridge"
      ],
      "execution_count": 42,
      "outputs": [
        {
          "output_type": "execute_result",
          "data": {
            "text/plain": [
              "{0: 1.010647102564273,\n",
              " 0.1: 1.0140147552518695,\n",
              " 10: 1.0266442601071586,\n",
              " 30: 1.0389154394971576,\n",
              " 1000: 1.1315297333444008,\n",
              " 5000: 1.165110317100393}"
            ]
          },
          "metadata": {
            "tags": []
          },
          "execution_count": 42
        }
      ]
    },
    {
      "cell_type": "code",
      "metadata": {
        "id": "ueiMNmKv2oor",
        "outputId": "177ddf99-31c5-4aec-c168-e9f38e408ef4",
        "colab": {
          "base_uri": "https://localhost:8080/",
          "height": 509
        }
      },
      "source": [
        "coeff_ridge_df= pd.DataFrame(dict([(k,pd.Series(v)) for k,v in coeff_ridge.items()]))\n",
        "coeff_ridge_df"
      ],
      "execution_count": 43,
      "outputs": [
        {
          "output_type": "execute_result",
          "data": {
            "text/html": [
              "<div>\n",
              "<style scoped>\n",
              "    .dataframe tbody tr th:only-of-type {\n",
              "        vertical-align: middle;\n",
              "    }\n",
              "\n",
              "    .dataframe tbody tr th {\n",
              "        vertical-align: top;\n",
              "    }\n",
              "\n",
              "    .dataframe thead th {\n",
              "        text-align: right;\n",
              "    }\n",
              "</style>\n",
              "<table border=\"1\" class=\"dataframe\">\n",
              "  <thead>\n",
              "    <tr style=\"text-align: right;\">\n",
              "      <th></th>\n",
              "      <th>0.0</th>\n",
              "      <th>0.1</th>\n",
              "      <th>10.0</th>\n",
              "      <th>30.0</th>\n",
              "      <th>1000.0</th>\n",
              "      <th>5000.0</th>\n",
              "    </tr>\n",
              "  </thead>\n",
              "  <tbody>\n",
              "    <tr>\n",
              "      <th>0</th>\n",
              "      <td>0.658751</td>\n",
              "      <td>1.033498</td>\n",
              "      <td>0.453483</td>\n",
              "      <td>0.279517</td>\n",
              "      <td>0.029597</td>\n",
              "      <td>0.007696</td>\n",
              "    </tr>\n",
              "    <tr>\n",
              "      <th>1</th>\n",
              "      <td>2.478693</td>\n",
              "      <td>0.749064</td>\n",
              "      <td>0.108113</td>\n",
              "      <td>0.067542</td>\n",
              "      <td>0.007559</td>\n",
              "      <td>0.002149</td>\n",
              "    </tr>\n",
              "    <tr>\n",
              "      <th>2</th>\n",
              "      <td>1.502000</td>\n",
              "      <td>0.243161</td>\n",
              "      <td>0.246485</td>\n",
              "      <td>0.199419</td>\n",
              "      <td>0.035698</td>\n",
              "      <td>0.010909</td>\n",
              "    </tr>\n",
              "    <tr>\n",
              "      <th>3</th>\n",
              "      <td>-3.975631</td>\n",
              "      <td>-0.935961</td>\n",
              "      <td>0.050790</td>\n",
              "      <td>0.046416</td>\n",
              "      <td>0.010281</td>\n",
              "      <td>0.003701</td>\n",
              "    </tr>\n",
              "    <tr>\n",
              "      <th>4</th>\n",
              "      <td>-1.995486</td>\n",
              "      <td>-0.640506</td>\n",
              "      <td>0.072398</td>\n",
              "      <td>0.115494</td>\n",
              "      <td>0.041625</td>\n",
              "      <td>0.016172</td>\n",
              "    </tr>\n",
              "    <tr>\n",
              "      <th>5</th>\n",
              "      <td>2.771578</td>\n",
              "      <td>0.665527</td>\n",
              "      <td>0.022176</td>\n",
              "      <td>0.023761</td>\n",
              "      <td>0.011660</td>\n",
              "      <td>0.005727</td>\n",
              "    </tr>\n",
              "    <tr>\n",
              "      <th>6</th>\n",
              "      <td>1.120417</td>\n",
              "      <td>0.455593</td>\n",
              "      <td>-0.042951</td>\n",
              "      <td>0.011424</td>\n",
              "      <td>0.033186</td>\n",
              "      <td>0.020591</td>\n",
              "    </tr>\n",
              "    <tr>\n",
              "      <th>7</th>\n",
              "      <td>-0.931360</td>\n",
              "      <td>-0.216339</td>\n",
              "      <td>-0.006651</td>\n",
              "      <td>-0.002897</td>\n",
              "      <td>0.006973</td>\n",
              "      <td>0.006093</td>\n",
              "    </tr>\n",
              "    <tr>\n",
              "      <th>8</th>\n",
              "      <td>-0.325252</td>\n",
              "      <td>-0.156634</td>\n",
              "      <td>-0.011312</td>\n",
              "      <td>-0.050148</td>\n",
              "      <td>-0.002002</td>\n",
              "      <td>0.014739</td>\n",
              "    </tr>\n",
              "    <tr>\n",
              "      <th>9</th>\n",
              "      <td>0.164238</td>\n",
              "      <td>0.037482</td>\n",
              "      <td>0.001418</td>\n",
              "      <td>-0.000215</td>\n",
              "      <td>-0.000889</td>\n",
              "      <td>0.000589</td>\n",
              "    </tr>\n",
              "    <tr>\n",
              "      <th>10</th>\n",
              "      <td>0.051618</td>\n",
              "      <td>0.028873</td>\n",
              "      <td>0.007689</td>\n",
              "      <td>0.016925</td>\n",
              "      <td>-0.003497</td>\n",
              "      <td>-0.008079</td>\n",
              "    </tr>\n",
              "    <tr>\n",
              "      <th>11</th>\n",
              "      <td>-0.014639</td>\n",
              "      <td>-0.003373</td>\n",
              "      <td>-0.000239</td>\n",
              "      <td>-0.000001</td>\n",
              "      <td>-0.000209</td>\n",
              "      <td>-0.000492</td>\n",
              "    </tr>\n",
              "    <tr>\n",
              "      <th>12</th>\n",
              "      <td>-0.004254</td>\n",
              "      <td>-0.002721</td>\n",
              "      <td>-0.001201</td>\n",
              "      <td>-0.002158</td>\n",
              "      <td>0.000685</td>\n",
              "      <td>0.001180</td>\n",
              "    </tr>\n",
              "    <tr>\n",
              "      <th>13</th>\n",
              "      <td>0.000520</td>\n",
              "      <td>0.000123</td>\n",
              "      <td>0.000015</td>\n",
              "      <td>0.000003</td>\n",
              "      <td>0.000025</td>\n",
              "      <td>0.000040</td>\n",
              "    </tr>\n",
              "    <tr>\n",
              "      <th>14</th>\n",
              "      <td>0.000142</td>\n",
              "      <td>0.000102</td>\n",
              "      <td>0.000060</td>\n",
              "      <td>0.000097</td>\n",
              "      <td>-0.000036</td>\n",
              "      <td>-0.000055</td>\n",
              "    </tr>\n",
              "  </tbody>\n",
              "</table>\n",
              "</div>"
            ],
            "text/plain": [
              "      0.0       0.1       10.0      30.0      1000.0    5000.0\n",
              "0   0.658751  1.033498  0.453483  0.279517  0.029597  0.007696\n",
              "1   2.478693  0.749064  0.108113  0.067542  0.007559  0.002149\n",
              "2   1.502000  0.243161  0.246485  0.199419  0.035698  0.010909\n",
              "3  -3.975631 -0.935961  0.050790  0.046416  0.010281  0.003701\n",
              "4  -1.995486 -0.640506  0.072398  0.115494  0.041625  0.016172\n",
              "5   2.771578  0.665527  0.022176  0.023761  0.011660  0.005727\n",
              "6   1.120417  0.455593 -0.042951  0.011424  0.033186  0.020591\n",
              "7  -0.931360 -0.216339 -0.006651 -0.002897  0.006973  0.006093\n",
              "8  -0.325252 -0.156634 -0.011312 -0.050148 -0.002002  0.014739\n",
              "9   0.164238  0.037482  0.001418 -0.000215 -0.000889  0.000589\n",
              "10  0.051618  0.028873  0.007689  0.016925 -0.003497 -0.008079\n",
              "11 -0.014639 -0.003373 -0.000239 -0.000001 -0.000209 -0.000492\n",
              "12 -0.004254 -0.002721 -0.001201 -0.002158  0.000685  0.001180\n",
              "13  0.000520  0.000123  0.000015  0.000003  0.000025  0.000040\n",
              "14  0.000142  0.000102  0.000060  0.000097 -0.000036 -0.000055"
            ]
          },
          "metadata": {
            "tags": []
          },
          "execution_count": 43
        }
      ]
    },
    {
      "cell_type": "code",
      "metadata": {
        "id": "MljxTcTL4z9i",
        "outputId": "78af5b1c-bf13-41e4-a721-d5dbd8742209",
        "colab": {
          "base_uri": "https://localhost:8080/",
          "height": 295
        }
      },
      "source": [
        "coeff_lin_df[15]"
      ],
      "execution_count": 44,
      "outputs": [
        {
          "output_type": "execute_result",
          "data": {
            "text/plain": [
              "0     0.658751\n",
              "1     2.478694\n",
              "2     1.501998\n",
              "3    -3.975631\n",
              "4    -1.995483\n",
              "5     2.771579\n",
              "6     1.120415\n",
              "7    -0.931360\n",
              "8    -0.325251\n",
              "9     0.164238\n",
              "10    0.051618\n",
              "11   -0.014639\n",
              "12   -0.004254\n",
              "13    0.000520\n",
              "14    0.000142\n",
              "Name: 15, dtype: float64"
            ]
          },
          "metadata": {
            "tags": []
          },
          "execution_count": 44
        }
      ]
    },
    {
      "cell_type": "markdown",
      "metadata": {
        "id": "ib_rmGp9L_Ac"
      },
      "source": [
        "#Seventh: Lasso Regression"
      ]
    },
    {
      "cell_type": "markdown",
      "metadata": {
        "id": "yIgX7dB_j6DQ"
      },
      "source": [
        "#Task 2 [2 points]\n",
        "1. complete lasso_reg function to perform lasso regression and test it using the code in the below cell. [1 p]\n",
        "\n",
        "2. How do the coefficients of lasso and ridge regression compare or the same values of alpha? [0.25 p]\n",
        "\n",
        "3. How do the rmse values of lasso and ridge regression compare for the same values of alpha? [0.25 p]\n",
        "\n",
        "4. Explain how lasso coefficients are used as feature selectors. [0.5 p]"
      ]
    },
    {
      "cell_type": "code",
      "metadata": {
        "id": "uCM7I2XXlQhc"
      },
      "source": [
        "from sklearn.linear_model import Lasso\n",
        "def lasso_reg (X, t, power, alpha, i, X_test, t_test):\n",
        "  poly_features = PolynomialFeatures(degree=power, include_bias=False)\n",
        "  X_poly = poly_features.fit_transform(X)\n",
        "  lasso_reg = Lasso(alpha=alpha)\n",
        "  lasso_reg.fit(X_poly, t) \n",
        "  # repredicting the values to calculate RMSE\n",
        "  t_train_pred = lasso_reg.predict(X_poly)  \n",
        "  rmse = np.sqrt(mean_squared_error(t,t_train_pred)) \n",
        "\n",
        "  # using the model to predict the test values and calculate the RMSE_test\n",
        "  t_test_eval= lasso_reg.predict(poly_features.fit_transform(X_test))\n",
        "  rmse_test = np.sqrt(mean_squared_error(t_test,t_test_eval)) \n",
        "\n",
        "  #Plot \n",
        "  axs[i].scatter(X, t, s=10) \n",
        "  # sort the values of x before line plot\n",
        "  sort_axis = operator.itemgetter(0)\n",
        "  sorted_zip = sorted(zip(X,t_train_pred), key=sort_axis)\n",
        "  X_plot, t_train_pred_plot = zip(*sorted_zip)\n",
        "  axs[i].plot(X_plot, t_train_pred_plot, color='m')\n",
        "  axs[i].set_title('alpha= : %.3f'%alpha)\n",
        "  return lasso_reg.intercept_, lasso_reg.coef_.tolist(), rmse, rmse_test\n",
        "\n",
        "\n",
        "# 2) Coefficients of lasso reg. are smaller than that of ridge reg. (for the same alpha)\n",
        "# 3) RMSE of lasso reg. is higher than that of ridge reg. (for the same alpha)\n",
        "# 4) The absolute value of the magnitude of coefficients is added as a penality for each feature.\n",
        "#    The larger the penality is, the more the value will be closer to zero and hence eliminating the feature from the model.\n",
        "#    Moreover, some coefficients could be zero and be eliminated as well.\n",
        "#    resulting in scattered model with few coefficients.\n"
      ],
      "execution_count": 56,
      "outputs": []
    },
    {
      "cell_type": "code",
      "metadata": {
        "id": "G_TapRBONDpA",
        "outputId": "8134ba54-59a4-4ef0-c6a5-a3db2cd74892",
        "colab": {
          "base_uri": "https://localhost:8080/",
          "height": 681
        }
      },
      "source": [
        "fig, axs = plt.subplots(2,3, figsize=(15, 6), facecolor='w', edgecolor='k')\n",
        "fig.subplots_adjust(hspace = .5, wspace=.001)\n",
        "\n",
        "axs = axs.ravel()\n",
        "\n",
        "m = 20\n",
        "X_test = 3*np.random.rand(m, 1)+1\n",
        "t_test = 0.5 * X_test**2 + X_test + 2 + np.random.randn(m, 1)\n",
        "\n",
        "coeff_lasso= {}\n",
        "rmse_lasso= {}\n",
        "rmse_lasso_test= {}\n",
        "power= 15\n",
        "alphas= [0,0.1,10,30, 1000, 5000]\n",
        "for i in range (len(alphas)):\n",
        "  alpha= alphas[i]\n",
        "  intercept_lasso,coeff_lasso[alpha],rmse_lasso[alpha],rmse_lasso_test[alpha]= lasso_reg (X, t, power,alpha, i, X_test, t_test)\n"
      ],
      "execution_count": 57,
      "outputs": [
        {
          "output_type": "stream",
          "text": [
            "/usr/local/lib/python3.6/dist-packages/ipykernel_launcher.py:6: UserWarning: With alpha=0, this algorithm does not converge well. You are advised to use the LinearRegression estimator\n",
            "  \n",
            "/usr/local/lib/python3.6/dist-packages/sklearn/linear_model/_coordinate_descent.py:476: UserWarning: Coordinate descent with no regularization may lead to unexpected results and is discouraged.\n",
            "  positive)\n",
            "/usr/local/lib/python3.6/dist-packages/sklearn/linear_model/_coordinate_descent.py:476: ConvergenceWarning: Objective did not converge. You might want to increase the number of iterations. Duality gap: 52.70257839214475, tolerance: 0.051882286312633384\n",
            "  positive)\n",
            "/usr/local/lib/python3.6/dist-packages/sklearn/linear_model/_coordinate_descent.py:476: ConvergenceWarning: Objective did not converge. You might want to increase the number of iterations. Duality gap: 61.516940412800395, tolerance: 0.051882286312633384\n",
            "  positive)\n",
            "/usr/local/lib/python3.6/dist-packages/sklearn/linear_model/_coordinate_descent.py:476: ConvergenceWarning: Objective did not converge. You might want to increase the number of iterations. Duality gap: 100.48656443885737, tolerance: 0.051882286312633384\n",
            "  positive)\n",
            "/usr/local/lib/python3.6/dist-packages/sklearn/linear_model/_coordinate_descent.py:476: ConvergenceWarning: Objective did not converge. You might want to increase the number of iterations. Duality gap: 101.64814442385675, tolerance: 0.051882286312633384\n",
            "  positive)\n",
            "/usr/local/lib/python3.6/dist-packages/sklearn/linear_model/_coordinate_descent.py:476: ConvergenceWarning: Objective did not converge. You might want to increase the number of iterations. Duality gap: 30.937282411614746, tolerance: 0.051882286312633384\n",
            "  positive)\n",
            "/usr/local/lib/python3.6/dist-packages/sklearn/linear_model/_coordinate_descent.py:476: ConvergenceWarning: Objective did not converge. You might want to increase the number of iterations. Duality gap: 0.08844672600497461, tolerance: 0.051882286312633384\n",
            "  positive)\n"
          ],
          "name": "stderr"
        },
        {
          "output_type": "display_data",
          "data": {
            "image/png": "[encoded data removed]",
            "text/plain": [
              "<Figure size 1080x432 with 6 Axes>"
            ]
          },
          "metadata": {
            "tags": []
          }
        }
      ]
    },
    {
      "cell_type": "markdown",
      "metadata": {
        "id": "jTMPvEw9L8iG"
      },
      "source": [
        "#Task 3 [4 points]\n"
      ]
    },
    {
      "cell_type": "markdown",
      "metadata": {
        "id": "MrdUv_6aMJzF"
      },
      "source": [
        "\n",
        "1. Read the data from https://s3.us-west-2.amazonaws.com/public.gamelab.fun/dataset/position_salaries.csv into a dataframe. **[0.5 P]**\n",
        "\n",
        "2. Use the column \"level\" as your feature and \"salary\" as the label. **[0.5 p]** \n",
        "\n",
        "3. Split the data into train and test using sklearn train_test_split with test size= 0.2 **[1 P]**\n",
        "\n",
        "4. Fit a linear regression model, a 4th degree polynomial model and a 15th degree polynomial model to the data. **[1 P]** \n",
        "\n",
        "5. Plot the prediction results of each model and comment on their fitting (Overfitting, underfitting, best fitting) **[1 P]**"
      ]
    },
    {
      "cell_type": "code",
      "metadata": {
        "id": "VTa-LPMQkY6o",
        "outputId": "3f507cad-1cf6-4ecd-8385-be8c483c8e41",
        "colab": {
          "base_uri": "https://localhost:8080/",
          "height": 1000
        }
      },
      "source": [
        "import pandas as pd\n",
        "import numpy as np\n",
        "from sklearn.model_selection import train_test_split\n",
        "from sklearn.preprocessing import PolynomialFeatures\n",
        "from sklearn.metrics import mean_squared_error\n",
        "from sklearn.metrics import r2_score\n",
        "import matplotlib.pyplot as plt\n",
        "\n",
        "\n",
        "# get the data into dataframe\n",
        "df = pd.read_csv('https://s3.us-west-2.amazonaws.com/public.gamelab.fun/dataset/position_salaries.csv')\n",
        "\n",
        "# extract the freature and the label into separate variables \n",
        "X, T = np.c_[df['Level']], np.c_[df['Salary']]\n",
        "\n",
        "# split the data into training and test sets\n",
        "X_train, X_test, T_train, T_test = train_test_split(X, T, test_size=0.2)\n",
        "\n",
        "# fitting the data into polynomial models (4 and 15)\n",
        "poly = PolynomialFeatures(degree=4, include_bias=False)\n",
        "X_poly = poly.fit_transform(X_train) \n",
        "\n",
        "poly2 = PolynomialFeatures(degree=15, include_bias=False)\n",
        "X_poly2 = poly2.fit_transform(X_train) \n",
        "\n",
        "# creating the models\n",
        "poly.fit(X_poly, T_train) \n",
        "reg_mdl1 = LinearRegression() \n",
        "reg_mdl1.fit(X_poly, T_train)\n",
        "\n",
        "poly2.fit(X_poly2, T_train) \n",
        "reg_mdl2 = LinearRegression() \n",
        "reg_mdl2.fit(X_poly2, T_train)\n",
        "\n",
        "# predicting the label using the test values and calculating the error\n",
        "T_pred = reg_mdl1.predict(poly.fit_transform(X_test))  \n",
        "rmse = np.sqrt(mean_squared_error(T_test,T_pred)) \n",
        "r2 = r2_score(T_test,T_pred)\n",
        "print(\"Intercept mdl1= \\n\", reg_mdl1.intercept_,\"\\nand coefficients mdl1 = \\n\" ,reg_mdl1.coef_)\n",
        "print(\"Root mean squared error mdl1= \\n\", rmse)\n",
        "print(\"R2 mdl1= \\n\", r2)\n",
        "\n",
        "T_pred2 = reg_mdl2.predict(poly2.fit_transform(X_test))  \n",
        "rmse_mdl2 = np.sqrt(mean_squared_error(T_test,T_pred2)) \n",
        "r2_mdl2 = r2_score(T_test,T_pred2)\n",
        "print(\"Intercept mdl2 = \\n\", reg_mdl2.intercept_,\"\\nand coefficients mdl2 = \\n\" ,reg_mdl2.coef_)\n",
        "print(\"Root mean squared error mdl2 = \\n\", rmse_mdl2)\n",
        "print(\"R2 mdl2 = \\n\", r2_mdl2)\n",
        "\n",
        "print('Test Data: \\n', X_test)\n",
        "\n",
        "print('model 1 is best fitting, it works properly on almost both the training set and test sets; taking intro consideration the small size of the data')\n",
        "\n",
        "print('model 2 is overfitting, it works properly on training set but poorly on test set')\n",
        "\n",
        "# plotting the models\n",
        "fig, axs = plt.subplots(2)\n",
        "\n",
        "axs[0].plot(X,T,'b.')\n",
        "axs[0].plot(X, reg_mdl1.predict(poly.fit_transform(X)), 'r') \n",
        "\n",
        "axs[1].plot(X,T,'b.')\n",
        "axs[1].plot(X, reg_mdl2.predict(poly2.fit_transform(X)), 'g') "
      ],
      "execution_count": 100,
      "outputs": [
        {
          "output_type": "stream",
          "text": [
            "Intercept mdl1= \n",
            " [135486.37366804] \n",
            "and coefficients mdl1 = \n",
            " [[-143427.12888393   68157.93948411  -11608.84599445     709.02332493]]\n",
            "Root mean squared error mdl1= \n",
            " 38573.73363836879\n",
            "R2 mdl1= \n",
            " 0.9692575841569457\n",
            "Intercept mdl2 = \n",
            " [44907.4261322] \n",
            "and coefficients mdl2 = \n",
            " [[ 6.21724328e-01  1.81799303e+00  4.04308716e+00  7.96406212e+00\n",
            "   1.42295956e+01  2.25022907e+01  2.91494495e+01  2.48055734e+01\n",
            "   4.37883669e-01 -2.30636326e+01  1.27889561e+01 -3.08505743e+00\n",
            "   3.86861898e-01 -2.47211507e-02  6.37061247e-04]]\n",
            "Root mean squared error mdl2 = \n",
            " 23568336.298291568\n",
            "R2 mdl2 = \n",
            " -11475.580079945617\n",
            "Test Data: \n",
            " [[9]\n",
            " [3]]\n",
            "model 1 is best fitting, it works properly on almost both the training set and test sets; taking intro consideration the small size of the data\n",
            "model 2 is overfitting, it works properly on training set but poorly on test set\n"
          ],
          "name": "stdout"
        },
        {
          "output_type": "execute_result",
          "data": {
            "text/plain": [
              "[<matplotlib.lines.Line2D at 0x7f3dc5490e80>]"
            ]
          },
          "metadata": {
            "tags": []
          },
          "execution_count": 100
        },
        {
          "output_type": "display_data",
          "data": {
            "image/png": "[encoded data removed]",
            "text/plain": [
              "<Figure size 864x720 with 2 Axes>"
            ]
          },
          "metadata": {
            "tags": [],
            "needs_background": "light"
          }
        }
      ]
    },
    {
      "cell_type": "markdown",
      "metadata": {
        "id": "weCIqt3bkbah"
      },
      "source": [
        "#Task 4 [2 points]"
      ]
    },
    {
      "cell_type": "markdown",
      "metadata": {
        "id": "Mzn-6KOzkeXI"
      },
      "source": [
        "1. Read the attached admission data. **[0.25 P]**\n",
        "2. Split the data into features and label. **[0.25 P]**\n",
        "3. Split the data into train and test with test size= 0.2 **[0.25 P]**\n",
        "4. Standardize the data (X_train and X_test) **[0.5 P]**\n",
        "5. Fit a linear regression model. **[ 0.25 P]**\n",
        "6. Print the mean squared error value. **[0.25 P]**\n",
        "7. Plot the prediction results for the test data. **[0.25 P]**\n"
      ]
    },
    {
      "cell_type": "code",
      "metadata": {
        "id": "uLN5NTchxHeQ",
        "outputId": "acedb268-8075-4509-9a4d-c530a7bc90d4",
        "colab": {
          "base_uri": "https://localhost:8080/",
          "height": 734
        }
      },
      "source": [
        "import pandas as pd\n",
        "import numpy as np\n",
        "from sklearn.model_selection import train_test_split\n",
        "from sklearn.linear_model import LinearRegression\n",
        "\n",
        "from sklearn.preprocessing import PolynomialFeatures\n",
        "from sklearn.metrics import mean_squared_error\n",
        "from sklearn.metrics import r2_score\n",
        "import matplotlib.pyplot as plt\n",
        "\n",
        "\n",
        "# get the data into dataframe\n",
        "df = pd.read_csv('/content/sample_data/Admission_Predict.csv')\n",
        "\n",
        "# extract the freature and the label into separate variables \n",
        "X, T = np.c_[df['GRE Score']], np.c_[df['Chance of Admit ']]\n",
        "\n",
        "# split the data into training and test sets\n",
        "X_train, X_test, T_train, T_test = train_test_split(X, T, test_size=0.2)\n",
        "\n",
        "# Standardize the data (X_train and X_test)\n",
        "X_train = (X_train - X_train.mean())/(X_train.std())\n",
        "X_test = (X_test - X_test.mean())/(X_test.std())\n",
        "\n",
        "# Fit a linear regression model.\n",
        "lin_reg = LinearRegression()\n",
        "lin_reg.fit(X_train, T_train)\n",
        "\n",
        "# Print the mean squared error value. \n",
        "T_pred = lin_reg.predict(X_test)  \n",
        "rmse = np.sqrt(mean_squared_error(T_test,T_pred))\n",
        "r2 = r2_score(T_test,T_pred)\n",
        "print(\"Intercept = \\n\", lin_reg.intercept_,\"\\nand coefficients = \\n\" , lin_reg.coef_)\n",
        "print(\"Root mean squared error = \\n\", rmse)\n",
        "print(\"R2 = \\n\", r2)\n",
        "\n",
        "\n",
        "# Plot the prediction results for the test data\n",
        "plt.plot(X_test, T_pred, \"r-\")\n",
        "plt.plot(X_test, T_test, \"b.\")\n",
        "#plt.plot(X_train, T_train, \"b.\")\n",
        "plt.show()\n"
      ],
      "execution_count": 148,
      "outputs": [
        {
          "output_type": "stream",
          "text": [
            "Intercept = \n",
            " [0.72346875] \n",
            "and coefficients = \n",
            " [[0.11427709]]\n",
            "Root mean squared error = \n",
            " 0.07670869521215909\n",
            "R2 = \n",
            " 0.6906172033461826\n"
          ],
          "name": "stdout"
        },
        {
          "output_type": "display_data",
          "data": {
            "image/png": "[encoded data removed]",
            "text/plain": [
              "<Figure size 864x720 with 1 Axes>"
            ]
          },
          "metadata": {
            "tags": [],
            "needs_background": "light"
          }
        }
      ]
    },
    {
      "cell_type": "markdown",
      "metadata": {
        "id": "DaiYdYwZQq-0"
      },
      "source": [
        "#Bonus [0.25 P]"
      ]
    },
    {
      "cell_type": "markdown",
      "metadata": {
        "id": "gICSiMAdQwUX"
      },
      "source": [
        "**Which of the following statements is true about outliers in Linear regression and why?**\n",
        "\n",
        "A) Linear regression is sensitive to outliers\n",
        "\n",
        "B) Linear regression is not sensitive to outliers"
      ]
    },
    {
      "cell_type": "markdown",
      "metadata": {
        "id": "gzOC7NZzOMF9"
      },
      "source": [
        "(A) is True and correct, because regression is mainly based on mean calculations -  the parameters of the model are calculated basen on the RMSE which is mainly a representation of the average distance between the true values and the mean value of our hypothesis. Since the mean calculation includes all the values of the data, it will be highly affected by the outliers."
      ]
    }
  ]
}